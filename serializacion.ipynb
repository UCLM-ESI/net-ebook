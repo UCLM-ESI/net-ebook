{
 "cells": [
  {
   "cell_type": "markdown",
   "id": "1a780069",
   "metadata": {
    "tags": [
     "hide"
    ]
   },
   "source": [
    "{: .chap:serialization }"
   ]
  },
  {
   "attachments": {},
   "cell_type": "markdown",
   "id": "d0c679ef-41f3-4b8c-bacf-64dff4a5a8fd",
   "metadata": {},
   "source": [
    "# Serialización\n",
    "\n",
    "El único modo posible de procesar y almacenar datos en un computador actual es el código binario.\n",
    "Pero, salvo unas pocas excepciones, rara vez resulta suficientemente expresivo para representar información útil para las personas.\n",
    "Por ese motivo se utilizan distintas formas de interpretar el código binario en función del tipo de dato que se desea:\n",
    "entero, decimal, cadena de caracteres, fecha, etc.\n",
    "Lo importante es recordar que, sea cual sea su representación en un lenguaje de programación de alto nivel determinado, en la memoria o registros de las computadoras, todo dato es a fin de cuentas una secuencia de bits.\n",
    "\n",
    "La serialización es el proceso de codificar los datos que manejan los programas\n",
    "(enteros, cadenas, imágenes, etc.) en secuencias de bytes susceptibles de ser almacenadas en un fichero o\n",
    "enviadas a través de la red.\n",
    "Por el contrario, la des-serialización es el proceso inverso. Más concretamente, estamos tratando lo «serialización binaria». También existen muchos formatos de serialización textual como XML, JavaScript Object Notation (JSON), YAML Ain’t Markup Language (YAML), etc., que no vamos a tratar en este capítulo.\n",
    "\n",
    "Es importante aclarar que no se debe confundir «codificación» con «cifrado» (o «encriptación»). Codificar es simplemente aplicar una transformación que modifica el modo en que se representan los datos, pero no implica el uso de ninguna clave ni ocultación u ofuscación del mensaje. Por ejemplo, un mensaje codificado en Morse es perfectamente legible por cualquiera que conozca el código\n",
    "\n",
    "\n",
    "## Representación, sólo eso\n",
    "\n",
    "Una de las excepciones a las que alude la sección anterior es la _programación de sistemas_, es decir, aquellos programas que consumen directamente servicios del SO.\n",
    "El binario resulta útil para manejar campos de bits, banderas binarias o máscaras,\n",
    "muy comunes cuando se manipulan registros de control, operaciones de E/S, etc.\n",
    "Por eso a veces es necesario manipular datos con estas representaciones.\n",
    "\n",
    "Sin embargo, como las personas, la mayoría de los lenguajes de programación utilizan la base decimal para expresar todo tipo de cantidades. Pero también ofrecen mecanismos para realizar cambios de base.\n",
    "\n",
    "Python permite expresar literales numéricos en varios formatos.A continuación, en todos los ejemplos se representa el número 42; y en todos los casos, si se asigna a una variable, se está creando un entero (tipo int) con el mismo valor."
   ]
  },
  {
   "cell_type": "code",
   "execution_count": 1,
   "id": "fcad9778-4eca-4147-8c77-7add9e85aa84",
   "metadata": {
    "tags": []
   },
   "outputs": [
    {
     "name": "stdout",
     "output_type": "stream",
     "text": [
      "decimal: 42\n",
      "binary: 42\n",
      "octal: 42\n",
      "hexadecimal: 42\n"
     ]
    }
   ],
   "source": [
    "decimal = 42\n",
    "binary = 0b101010\n",
    "octal = 0o52\n",
    "hexadecimal = 0x2a\n",
    "\n",
    "print(f\"decimal: {decimal}\\nbinary: {binary}\\noctal: {octal}\\nhexadecimal: {hexadecimal}\")"
   ]
  },
  {
   "cell_type": "markdown",
   "id": "53be6cd2-495c-4328-a568-1819dc6cfba7",
   "metadata": {},
   "source": [
    "Asimismo ofrece funciones para convertir entre bases: `bin()`, `oct()`, y `hex()`,\n",
    "aunque se debe tener en cuenta que estas funciones únicamente devuelven cadenas (`str`)\n",
    "y se utilizan precisamente para ofrecer _representaciones_ diferentes del mismo dato.\n",
    "Observa que la salida de cada ejecución incluye unas comillas,\n",
    "lo que denota que lo impreso es una cadena y no un número."
   ]
  },
  {
   "cell_type": "code",
   "execution_count": 2,
   "id": "453053dd-ea62-4dc7-8f7d-3483cada4d36",
   "metadata": {
    "tags": []
   },
   "outputs": [
    {
     "data": {
      "text/plain": [
       "'0b101010'"
      ]
     },
     "execution_count": 2,
     "metadata": {},
     "output_type": "execute_result"
    }
   ],
   "source": [
    "bin(42)"
   ]
  },
  {
   "cell_type": "code",
   "execution_count": 3,
   "id": "fbc1742b-f117-4841-969d-13905a84c207",
   "metadata": {},
   "outputs": [
    {
     "data": {
      "text/plain": [
       "'0o52'"
      ]
     },
     "execution_count": 3,
     "metadata": {},
     "output_type": "execute_result"
    }
   ],
   "source": [
    "oct(42)"
   ]
  },
  {
   "cell_type": "code",
   "execution_count": 4,
   "id": "960aa265-2f79-4959-96f2-6585a1b3d32e",
   "metadata": {},
   "outputs": [
    {
     "data": {
      "text/plain": [
       "'0x2a'"
      ]
     },
     "execution_count": 4,
     "metadata": {},
     "output_type": "execute_result"
    }
   ],
   "source": [
    "hex(42)"
   ]
  },
  {
   "cell_type": "markdown",
   "id": "c06041bf-3005-4268-a5f7-9abe2db2085d",
   "metadata": {},
   "source": [
    "Además, el constructor de la clase `int` acepta una cadena de caracteres que represente un número, y opcionalmente un segundo argumento para indicar la base:"
   ]
  },
  {
   "cell_type": "code",
   "execution_count": 5,
   "id": "3fc38af7-80d9-46d5-a7ce-53a2e5ed9937",
   "metadata": {
    "tags": []
   },
   "outputs": [
    {
     "name": "stdout",
     "output_type": "stream",
     "text": [
      "42\n",
      "42\n",
      "42\n",
      "42\n",
      "42\n"
     ]
    }
   ],
   "source": [
    "print(int(\"42\"))\n",
    "print(int(\"101010\", 2))\n",
    "print(int(\"52\", 8))\n",
    "print(int(\"2a\", 16))\n",
    "print(int(\"1J\", 23))"
   ]
  },
  {
   "cell_type": "markdown",
   "id": "73d4b9b1-01ba-4ce9-a186-5388ee0039d2",
   "metadata": {},
   "source": [
    "Todo programador debe tener claro que `'42'`, `'101010'`, `'052'` o `'0x2A'` no son más que diferentes maneras\n",
    "de representar el mismo dato, y que internamente el computador lo va a almacenar exatamente igual: en binario. Igual de importante es entender que es totalmente diferente alamacenar (o enviar) el entero que alguna de sus representaciones. Esto es fuente de innumerables confusiones para los programadores novatos.\n",
    "\n",
    "## Los enteros en Python\n",
    "\n",
    "El tipo más simple de cualquier lenguaje de programación suele ser `byte`,\n",
    "que se corresponde con una secuencia de 8 bits.\n",
    "Suele ser un entero sin signo, es decir, puede representar números enteros en el rango [0, 255].\n",
    "El lenguaje Python, por su naturaleza dinámica, solo tiene un tipo de datos para enteros (`int`).\n",
    "En Python un entero puede ser arbitrariamente largo puesto que el intérprete se encarga\n",
    "de gestionar la memoria necesaria:"
   ]
  },
  {
   "cell_type": "code",
   "execution_count": 6,
   "id": "bc11d8af-8acf-4e1b-9fe5-dd16f156beb2",
   "metadata": {
    "tags": []
   },
   "outputs": [
    {
     "data": {
      "text/plain": [
       "int"
      ]
     },
     "execution_count": 6,
     "metadata": {},
     "output_type": "execute_result"
    }
   ],
   "source": [
    "googol = 10 ** 100\n",
    "type(googol)"
   ]
  },
  {
   "cell_type": "markdown",
   "id": "a3523a1f-ceae-4195-baaa-fdeaa1ac9720",
   "metadata": {},
   "source": [
    "En ocasiones, como cuando serializamos datos en un fichero o una conexión de red, necesitamos manejar explícitamente el tamaño de los datos.\n",
    "En las próximas secciones veremos cómo realizar esa tarea en Python.\n",
    "\n",
    "## Caracteres\n",
    "\n",
    "La condificación de caracteres más simple (y una de las más antiguas) consiste en asignar un número a cada carácter del alfabeto.\n",
    "**ASCII** fue creado por ANSI en 1963 como una evolución de la condificación utilizada anteriormente en telegrafía.\n",
    "Es un código de 7 bits (128 símbolos) que incluye los caracteres alfanuméricos de la lengua inglesa,\n",
    "incluyendo mayúsculas y minúsculas, y la mayoría de signos de puntuación y tipográficos habituales.\n",
    "Además incluye caracteres de control para indicar salto de línea, de página, tabulador, retorno de carro, etc.\n",
    "Más tarde IBM creó el código EBCDIC, similar a ASCII pero con 8 bits (256 símbolos).\n",
    "\n",
    "Prácticamente todos los lenguajes de programación incluyen funciones elementales para manejar la conversión entre\n",
    "bytes (números de 8 bits) y su carácter equivalente. En Python estas funciones son `ord()` y `chr()`:"
   ]
  },
  {
   "cell_type": "code",
   "execution_count": 7,
   "id": "4e5b182b-69f2-4627-b2f9-34aa816014bd",
   "metadata": {
    "tags": []
   },
   "outputs": [
    {
     "data": {
      "text/plain": [
       "97"
      ]
     },
     "execution_count": 7,
     "metadata": {},
     "output_type": "execute_result"
    }
   ],
   "source": [
    "ord(\"a\")"
   ]
  },
  {
   "cell_type": "code",
   "execution_count": 8,
   "id": "6777ba5d-746c-4d7e-84a3-8358d1cc2873",
   "metadata": {
    "tags": []
   },
   "outputs": [
    {
     "data": {
      "text/plain": [
       "'a'"
      ]
     },
     "execution_count": 8,
     "metadata": {},
     "output_type": "execute_result"
    }
   ],
   "source": [
    "chr(97)"
   ]
  },
  {
   "cell_type": "code",
   "execution_count": 14,
   "id": "1d562e18-7113-4cc2-87a9-35e772c51a94",
   "metadata": {
    "tags": []
   },
   "outputs": [
    {
     "data": {
      "text/plain": [
       "48"
      ]
     },
     "execution_count": 14,
     "metadata": {},
     "output_type": "execute_result"
    }
   ],
   "source": [
    "ord(\"0\")"
   ]
  },
  {
   "cell_type": "code",
   "execution_count": 9,
   "id": "9cdc1f60-45eb-424b-a38c-41b62716c0bb",
   "metadata": {
    "tags": []
   },
   "outputs": [
    {
     "data": {
      "text/plain": [
       "0"
      ]
     },
     "execution_count": 9,
     "metadata": {},
     "output_type": "execute_result"
    }
   ],
   "source": [
    "ord(\"\\0\")"
   ]
  },
  {
   "cell_type": "code",
   "execution_count": 10,
   "id": "8ff1d2ac-d942-4fbe-abd4-c1a30a23168e",
   "metadata": {
    "tags": []
   },
   "outputs": [
    {
     "data": {
      "text/plain": [
       "'\\x00'"
      ]
     },
     "execution_count": 10,
     "metadata": {},
     "output_type": "execute_result"
    }
   ],
   "source": [
    "chr(0)"
   ]
  },
  {
   "cell_type": "code",
   "execution_count": 11,
   "id": "efc7bc36-3d33-4590-a512-c433f0dd950a",
   "metadata": {
    "tags": []
   },
   "outputs": [
    {
     "data": {
      "text/plain": [
       "10"
      ]
     },
     "execution_count": 11,
     "metadata": {},
     "output_type": "execute_result"
    }
   ],
   "source": [
    "ord(\"\\n\")"
   ]
  },
  {
   "cell_type": "code",
   "execution_count": 12,
   "id": "cdee4106-f39a-4092-8a05-9238deff77ea",
   "metadata": {
    "tags": []
   },
   "outputs": [
    {
     "data": {
      "text/plain": [
       "'\\n'"
      ]
     },
     "execution_count": 12,
     "metadata": {},
     "output_type": "execute_result"
    }
   ],
   "source": [
    "chr(10)"
   ]
  },
  {
   "cell_type": "code",
   "execution_count": 13,
   "id": "171ea094-223f-4225-9802-f3802728864a",
   "metadata": {
    "tags": []
   },
   "outputs": [
    {
     "data": {
      "text/plain": [
       "32"
      ]
     },
     "execution_count": 13,
     "metadata": {},
     "output_type": "execute_result"
    }
   ],
   "source": [
    "ord(\" \")"
   ]
  },
  {
   "attachments": {},
   "cell_type": "markdown",
   "id": "464d2e52-5827-4fdc-94be-9c6810313312",
   "metadata": {},
   "source": [
    "Se puede ver en los ejemplos anteriores que, por ejemplo, el valor equivalente al carácter \"0\" es 48, mientras que el caracter equivalente al valor numérico 0 es el carácter \"\\x00\".\n",
    "\n",
    "Es especialemten importante tener claro que los caracteres numéricos **no son equivalentes** a los valores que representan. También resulta digno de mención que la secuencia '`\\n`' es un sólo caracter, ya que la barra es lo que se conoce como **«carácter de escape»**. Es decir, cambia el significado del siguiente carácter. En este caso, significa «nueva línea», como ya sabéis.\n",
    "\n",
    "De la misma manera, cuando un caracter toma un valor que no corresponde con ningún carácter imprimible, como en el caso anterior del caracter equivalente al número 0,\n",
    "Python lo representa con '`\\x00`', siendo los dos caracteres que siguen al `\\x` el valor hexadecimal del número.\n",
    "\n",
    "Como se explicó en la sesión de introducción a Python, las cadenas son un tipo inmutable, lo que implica que no puede modificarse su contenido.\n",
    "Para añadir o modificar algún element en una cadena, debemos crear una nueva modificada a partir de la primera.\n",
    "\n",
    "Sin embargo, Python proporciona el tipo **`bytearray`** que permite almacenar una secuencia de bytes, modificar su contenido, y obtener fácilmente la lista de caracteres o secuencia de enteros equivalente."
   ]
  },
  {
   "cell_type": "code",
   "execution_count": 16,
   "id": "b84638a7-d5cf-44e2-b702-de63d3660f67",
   "metadata": {
    "tags": []
   },
   "outputs": [
    {
     "name": "stdout",
     "output_type": "stream",
     "text": [
      "buf: bytearray(b'\\x14bcd')\n",
      "Decoded buf: \u0014bcd\n"
     ]
    }
   ],
   "source": [
    "buf = bytearray(\"abcd\", \"ascii\")\n",
    "buf[0] = 20\n",
    "print(f\"buf: {buf}\")\n",
    "print(f\"Decoded buf: {buf.decode()}\")"
   ]
  },
  {
   "cell_type": "markdown",
   "id": "0e25c5a3-e6cc-4225-b312-2be835a01eda",
   "metadata": {},
   "source": [
    "## Tipos multibyte y ordenamiento\n",
    "\n",
    "En muchísimas ocasiones necesitamos utilizar nímeros enteros o reales que internamente van a ocupar más de un byte de memoria.\n",
    "Ésto hace que aparezca un nuevo problema muy interesante: ¿cómo deben ordenarse los múltiples bytes que representan el dato?\n",
    "\n",
    "Dependiendo de cómo se ordenen los bytes de un mismo dato entre ellos, se distingue entre _little endian_ y _big endian_.\n",
    "_Little endian_ significa que el byte **menos significativo** se coloca primero en memoria (en la dirección más baja),\n",
    "mientras que _big endian_ es justo al revés: el byte de **mayor peso** se coloca en la dirección más baja de memoria.\n",
    "\n",
    "Esta ordenación o _byte order_ es característico de cada arquitectura hardware,\n",
    "y es imprescindible que los programas manipulen los datos de manera adecuada para poder realizar operaciones con ellos.\n",
    "\n",
    "Para comprobar qué tipo de arquitectura estás usando, pueden utilizar el módulo `sys` de Python:"
   ]
  },
  {
   "cell_type": "code",
   "execution_count": 18,
   "id": "2bd572b4-2402-4aa8-9283-7bafdebc4ca0",
   "metadata": {
    "tags": []
   },
   "outputs": [
    {
     "data": {
      "text/plain": [
       "'little'"
      ]
     },
     "execution_count": 18,
     "metadata": {},
     "output_type": "execute_result"
    }
   ],
   "source": [
    "import sys\n",
    "\n",
    "sys.byteorder"
   ]
  },
  {
   "cell_type": "markdown",
   "id": "699ae929-27cc-4dd3-90ab-74d0b03240c8",
   "metadata": {},
   "source": [
    "En la red ocurre algo parecido: cuando colocamos un dato multibyte en \"el cable\" también se tiene que respetar,\n",
    "al recibirlo en el otro extremo, el ordenamiento.\n",
    "En particular los protocolos de la pila TCP/IP imponen que se utilice siempre el ordenamiento _big endian_.\n",
    "\n",
    "Esto significa que, con bastante probabilidad, el equipo que estás manejando ahora mismo tiene un ordenamiento opuesto\n",
    "al que utiliza la red a la que está conectado, por lo que deben convertirse los datos antes de ser enviados.\n",
    "Para evitar que los programas tengan que comprobar directamente el orden de la arquitectura,\n",
    "las librerías de conectividad (`socket`) proporcionan funciones que hacen la conversión por nosotros.\n",
    "\n",
    "Evidentemente, cuando el mismo programa se ejecute en una arquitectura _big endian_, dicha función no hará nada.\n",
    "\n",
    "- `socket.ntohs()`: convierte un entero _short_ (16 bits) del ordenamiento de la red al de la computadora.\n",
    "- `socket.htons()`: convierte un entero _short_ (16 bits) del ordenamiento de la computadora al de la red.\n",
    "- `socket.ntohl()`: convierte un entero _long_ (32 bits) del ordenamiento de la red al de la computadora.\n",
    "- `socket.htonl()`: convierte un entero _long_ (32 bits) del ordenamiento de la computadora al de la red."
   ]
  },
  {
   "cell_type": "code",
   "execution_count": 23,
   "id": "3fc560e3-bb68-4fd2-bd61-d1bb5b85dee5",
   "metadata": {
    "tags": []
   },
   "outputs": [
    {
     "data": {
      "text/plain": [
       "8192"
      ]
     },
     "execution_count": 23,
     "metadata": {},
     "output_type": "execute_result"
    }
   ],
   "source": [
    "import socket\n",
    "\n",
    "socket.htons(32)"
   ]
  },
  {
   "cell_type": "code",
   "execution_count": 32,
   "id": "4289a215-ea0b-4cdb-9020-eb381529afb3",
   "metadata": {
    "tags": []
   },
   "outputs": [
    {
     "data": {
      "text/plain": [
       "'0x20'"
      ]
     },
     "execution_count": 32,
     "metadata": {},
     "output_type": "execute_result"
    }
   ],
   "source": [
    "hex(32)"
   ]
  },
  {
   "cell_type": "code",
   "execution_count": 33,
   "id": "74f874e8-63a7-411d-9851-13ca5e4ebd7f",
   "metadata": {
    "tags": []
   },
   "outputs": [
    {
     "data": {
      "text/plain": [
       "'0x2000'"
      ]
     },
     "execution_count": 33,
     "metadata": {},
     "output_type": "execute_result"
    }
   ],
   "source": [
    "hex(socket.htons(32))"
   ]
  },
  {
   "cell_type": "markdown",
   "id": "d70d38f7-8820-4a52-9e6e-0e3f03e19e07",
   "metadata": {},
   "source": [
    "Al ver la representación hexadecimal de 32 en esta máquina (_little endian_) y de su versión para red (_big endian_)\n",
    "podemos observar lo siguiente:\n",
    "\n",
    "- Cada byte se representa con 2 caracteres hexadecimales, cada caracter hexadecimal puede represnetar 16 valores.\n",
    "- En la primera versión (_little endian_), el valor menos significativo aparece más a la derecha\n",
    "    (los dos ceros que deberían estar a la izquierda se omiten, igual que haríamos en base 10).\n",
    "- En la segunda representación (_big endian_) el valor menos significativo aparece más a la izquierda, y los más significativos más a la derecha.\n",
    "\n",
    "## Cadenas de caracteres y secuencias de bytes\n",
    "\n",
    "En Python 3 las cadenas de caracteres (tipo `str`) utilizan Unicode como codificación.\n",
    "Ésto hace que, por defecto, no podamos utilizar `str` para escribir en un fichero o para enviar a través de un socket.\n",
    "Estas operaciones requieren del uso de la secuencia de bytes (tipo `bytes`).\n",
    "Convertir una cadena a una secuencia de bytes requiere que se indique una codificación o _encoding_.\n",
    "\n",
    "Un _encoding_ es una tabla de correspondencia entre un caracter imprimible y su representación en uno o varios bytes.\n",
    "Habitualmente los caracteres que ya estaban establecidos en el código ASCII tienen la misma representación en todos los _encodings_,\n",
    "pero los caracteres no presentes en ASCII, como las vocales con las diferentes tildes, el símbolo del € o nuestra querida _ñ_\n",
    "suelen tener diferentes representaciones dependiendo del _encoding_:"
   ]
  },
  {
   "cell_type": "code",
   "execution_count": 34,
   "id": "761e7890-8b99-4bc0-b5d9-0a5e0f815bce",
   "metadata": {
    "tags": []
   },
   "outputs": [
    {
     "data": {
      "text/plain": [
       "b'\\xc3\\xb1'"
      ]
     },
     "execution_count": 34,
     "metadata": {},
     "output_type": "execute_result"
    }
   ],
   "source": [
    "bytes(\"ñ\", \"utf-8\")"
   ]
  },
  {
   "cell_type": "code",
   "execution_count": 36,
   "id": "7ec873fa-1c35-4aeb-8a98-8ffd9a624e0a",
   "metadata": {
    "tags": []
   },
   "outputs": [
    {
     "data": {
      "text/plain": [
       "b'\\xf1'"
      ]
     },
     "execution_count": 36,
     "metadata": {},
     "output_type": "execute_result"
    }
   ],
   "source": [
    "bytes(\"ñ\", \"latin-1\")"
   ]
  },
  {
   "cell_type": "code",
   "execution_count": 41,
   "id": "3577f8e8-adeb-439a-889a-398b081701e7",
   "metadata": {
    "tags": []
   },
   "outputs": [
    {
     "name": "stdout",
     "output_type": "stream",
     "text": [
      "No se ha podido codificar ñandú usando ASCII:\n",
      "'ascii' codec can't encode character '\\xf1' in position 0: ordinal not in range(128)\n",
      "ñandú tiene una longitud de 5\n",
      "b'\\xc3\\xb1and\\xc3\\xba' tiene una longitud de 7\n"
     ]
    }
   ],
   "source": [
    "animal = \"ñandú\"\n",
    "try:\n",
    "    bytes(animal, \"ascii\")\n",
    "except UnicodeEncodeError as ex:\n",
    "    print(f\"No se ha podido codificar {animal} usando ASCII:\")\n",
    "    print(ex)\n",
    "\n",
    "print(f\"{animal} tiene una longitud de {len(animal)}\")\n",
    "\n",
    "animal_raw = bytes(animal, \"utf-8\")\n",
    "print(f\"{animal_raw} tiene una longitud de {len(animal_raw)}\")"
   ]
  },
  {
   "cell_type": "markdown",
   "id": "7adcf32c-022b-4022-ad12-6f8b75c0e9a4",
   "metadata": {},
   "source": [
    "En el primer intento de convertir la palabra \"ñandú\" usando ASCII obtenemos un error,\n",
    "ya que ni la \"ñ\" ni la \"ú\" son caracteres contemplados en esta codificación.\n",
    "\n",
    "Otro modo de poder convertir entre `bytes` y su representación en `str` y viceversa es a través de los métodos\n",
    "`decode()` y `encode()` respectivamente:"
   ]
  },
  {
   "cell_type": "code",
   "execution_count": 42,
   "id": "fb915d58-e633-402e-872f-600943745a95",
   "metadata": {
    "tags": []
   },
   "outputs": [
    {
     "data": {
      "text/plain": [
       "b'\\xc3\\xb1and\\xc3\\xba'"
      ]
     },
     "execution_count": 42,
     "metadata": {},
     "output_type": "execute_result"
    }
   ],
   "source": [
    "\"ñandú\".encode()"
   ]
  },
  {
   "cell_type": "code",
   "execution_count": 43,
   "id": "57d96dcd-042e-4b6a-9c06-5d46c6a2c1de",
   "metadata": {
    "tags": []
   },
   "outputs": [
    {
     "data": {
      "text/plain": [
       "'ñandú'"
      ]
     },
     "execution_count": 43,
     "metadata": {},
     "output_type": "execute_result"
    }
   ],
   "source": [
    "b'\\xc3\\xb1and\\xc3\\xba'.decode()"
   ]
  },
  {
   "cell_type": "markdown",
   "id": "6d97721f-52dd-4505-a73a-9065e6afda13",
   "metadata": {},
   "source": [
    "## Empaquetado\n",
    "\n",
    "Hemos visto anteriormente cómo poder convertir números enteros de 16 y 32 bits o cadenas a su representación en secuencia de bytes.\n",
    "Aunque el tipo `bytes` permite realizar múltiples operaciones, como la concatenación, partición o búsquedas,\n",
    "cuando queremos realizar varias conversiones a la vez puede volverse muy engorroso.\n",
    "\n",
    "Para ello Python proporciona el módulo `struct` que nos permite realizar transformaciones entre datos y su representación y viceversa.\n",
    "\n",
    "En primer lugar, veremos como convertir un conjunto de datos a una secuencia de bytes equivalente utilizando `struct.pack()`.\n",
    "\n",
    "### Cadena de formato\n",
    "\n",
    "En primer lugar, la función `struct.pack()` debe conocer el tipo de datos, tamaño y ordenamiento\n",
    "que queremos aplicar a cada uno de los valores que queramos convertir.\n",
    "Para ello, el primer argumento que debe recibir `struct.pack()` es una cadena de formato.\n",
    "Dicha cadena debe indicar, en su primera posición, el _byte order_ de acuerdo a los siguientes valores:\n",
    "\n",
    "- `@`: ordenamiento nativo de la máquina realizando alineamiento.\n",
    "- `=`: ordenamiento nativo.\n",
    "- `<`: _little endian_.\n",
    "- `>`: _big endian_.\n",
    "- `!`: ordenamiento de la red (igual que el anterior).\n",
    "\n",
    "A continuación, por cada valor que queramos \"empaquetar\" añadiremos un caracter más a la cadena de formato.\n",
    "Just debajo se puede ver la documentación de `struct` y la explicación de cada valor de la cadena de formato:"
   ]
  },
  {
   "cell_type": "code",
   "execution_count": 44,
   "id": "9d7ba89f-6185-455c-84da-84296c0e0d5d",
   "metadata": {
    "tags": []
   },
   "outputs": [
    {
     "name": "stdout",
     "output_type": "stream",
     "text": [
      "Functions to convert between Python values and C structs.\n",
      "Python bytes objects are used to hold the data representing the C struct\n",
      "and also as format strings (explained below) to describe the layout of data\n",
      "in the C struct.\n",
      "\n",
      "The optional first format char indicates byte order, size and alignment:\n",
      "  @: native order, size & alignment (default)\n",
      "  =: native order, std. size & alignment\n",
      "  <: little-endian, std. size & alignment\n",
      "  >: big-endian, std. size & alignment\n",
      "  !: same as >\n",
      "\n",
      "The remaining chars indicate types of args and must match exactly;\n",
      "these can be preceded by a decimal repeat count:\n",
      "  x: pad byte (no data); c:char; b:signed byte; B:unsigned byte;\n",
      "  ?: _Bool (requires C99; if not available, char is used instead)\n",
      "  h:short; H:unsigned short; i:int; I:unsigned int;\n",
      "  l:long; L:unsigned long; f:float; d:double; e:half-float.\n",
      "Special cases (preceding decimal count indicates length):\n",
      "  s:string (array of char); p: pascal string (with count byte).\n",
      "Special cases (only available in native format):\n",
      "  n:ssize_t; N:size_t;\n",
      "  P:an integer type that is wide enough to hold a pointer.\n",
      "Special case (not in native mode unless 'long long' in platform C):\n",
      "  q:long long; Q:unsigned long long\n",
      "Whitespace between formats is ignored.\n",
      "\n",
      "The variable struct.error is an exception raised on errors.\n",
      "\n"
     ]
    }
   ],
   "source": [
    "import struct\n",
    "\n",
    "print(struct.__doc__)"
   ]
  },
  {
   "cell_type": "markdown",
   "id": "ce8f760a-f2e1-4828-b267-3950afc669bb",
   "metadata": {},
   "source": [
    "### Ejemplo de empaquetado: cabecera de una trama Ethernet\n",
    "\n",
    "Vamos a realizar un ejemplo en el que queremos empaquetar la cabecera de una trama Ethernet.\n",
    "La cabecera Ethernet es muy sencilla: únicamente consta de la dirección destino de la trama,\n",
    "la dirección origen y un entero corto (_short_).\n",
    "\n",
    "Por ello, nuestra cadena de formato deberá ser `\"!6s6sh\"`:\n",
    "\n",
    "- `!` para indicar que se utilice el ordenamiento de la red.\n",
    "- `6s` para indicar que queremos pasarle 6 caracteres (cada una de las direcciones MAC).\n",
    "- `h` para indicar que le pasamos un número entero que debe ser formateado como un _short_ con signo.\n",
    "\n",
    "En concreto, queremos crear la cabecera de una trama Ethernet que contenga una petición ARP,\n",
    "por lo qué la MAC destino deberá ser \"FF:FF:FF:FF:FF:FF\" y el tipo 0x0806:"
   ]
  },
  {
   "cell_type": "code",
   "execution_count": 47,
   "id": "c2a2295b-4ec9-4658-9693-b60c1c7a2b46",
   "metadata": {
    "tags": []
   },
   "outputs": [
    {
     "data": {
      "text/plain": [
       "b'\\xff\\xff\\xff\\xff\\xff\\xff\\xc4\\x85\\x08\\xed\\xd3\\x07\\x08\\x06'"
      ]
     },
     "execution_count": 47,
     "metadata": {},
     "output_type": "execute_result"
    }
   ],
   "source": [
    "header = struct.pack(\n",
    "    \"!6s6sh\",\n",
    "    b\"\\xff\" * 6,  # Se concatena consigo misma 6 veces, produciendo la MAC de destino\n",
    "    b\"\\xC4\\x85\\x08\\xED\\xD3\\x07\",  # una dirección MAC de origen, en este caso C4:85:08:ED:D3:07\n",
    "    0x0806,\n",
    ")\n",
    "\n",
    "header"
   ]
  },
  {
   "cell_type": "code",
   "execution_count": 48,
   "id": "363c8c7f-a77f-41bb-9617-7d34f53c156d",
   "metadata": {
    "tags": []
   },
   "outputs": [
    {
     "data": {
      "text/plain": [
       "[255, 255, 255, 255, 255, 255, 196, 133, 8, 237, 211, 7, 8, 6]"
      ]
     },
     "execution_count": 48,
     "metadata": {},
     "output_type": "execute_result"
    }
   ],
   "source": [
    "list(header)"
   ]
  },
  {
   "cell_type": "markdown",
   "id": "32f81e6a-b4f5-4491-820b-22567706a814",
   "metadata": {},
   "source": [
    "## Desempaquetado\n",
    "\n",
    "Es el proceso opuesto al realizado en la sección anterior y se hace a través de la función `struct.unpack`.\n",
    "En este caso, la funcón acepta 2 argumentos: la cadena de formato y la secuencia de bytes\n",
    "de la que queremos desempaquetar los datos."
   ]
  },
  {
   "cell_type": "code",
   "execution_count": 51,
   "id": "1d0fb9f6-e62f-4fb5-82b4-dd2ccae1dc09",
   "metadata": {
    "tags": []
   },
   "outputs": [
    {
     "name": "stdout",
     "output_type": "stream",
     "text": [
      "Destination address: b'\\xff\\xff\\xff\\xff\\xff\\xff'\n",
      "Origin address: b'\\xc4\\x85\\x08\\xed\\xd3\\x07'\n",
      "Frame type: 2054\n",
      "Frame type (hex): 0x806\n"
     ]
    }
   ],
   "source": [
    "dst_address, orig_address, frame_type = struct.unpack(\"!6s6sh\", header)\n",
    "print(f\"Destination address: {dst_address}\")\n",
    "print(f\"Origin address: {orig_address}\")\n",
    "print(f\"Frame type: {frame_type}\")\n",
    "print(f\"Frame type (hex): {hex(frame_type)}\")"
   ]
  }
 ],
 "metadata": {
  "kernelspec": {
   "display_name": "net-book-bM-vswVT",
   "language": "python",
   "name": "python3"
  },
  "language_info": {
   "codemirror_mode": {
    "name": "ipython",
    "version": 3
   },
   "file_extension": ".py",
   "mimetype": "text/x-python",
   "name": "python",
   "nbconvert_exporter": "python",
   "version": "3.9.2"
  },
  "vscode": {
   "interpreter": {
    "hash": "4cd0ec5e5d696061b7d4928622f1e0a2170e333009c473e8a1c2c4dfb141603d"
   }
  }
 },
 "nbformat": 4,
 "nbformat_minor": 5
}
